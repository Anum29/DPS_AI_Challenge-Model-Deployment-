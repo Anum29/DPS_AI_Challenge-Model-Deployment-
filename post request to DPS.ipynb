{
 "cells": [
  {
   "cell_type": "markdown",
   "metadata": {},
   "source": [
    "## Generating a totp password"
   ]
  },
  {
   "cell_type": "code",
   "execution_count": 46,
   "metadata": {},
   "outputs": [],
   "source": [
    "#!/usr/bin/env python\n",
    "#######################################################################\n",
    "# Mission Description\n",
    "#\n",
    "# ##Description\n",
    "#\n",
    "# Then, make an HTTP POST request to the URL http://hdegip.appspot.com/challenge/003/endpoint \n",
    "# which contains the JSON string as a body part.\n",
    "#\n",
    "# * Content-Type: of the request must be \"application/json\".\n",
    "# * The URL is protected by HTTP Basic Authentication, which is explained on Chapter 2 of RFC2617, so you have to provide an Authorization: header field in your POST request\n",
    "# * For the \"userid\" of HTTP Basic Authentication, use the same email address you put in the JSON string.\n",
    "# * For the \"password\", provide an 10-digit time-based one time password conforming to RFC6238 TOTP.\n",
    "# \n",
    "# ** You have to read RFC6238 (and the errata too!) and get a correct one time password by yourself.\n",
    "# ** TOTP's \"Time Step X\" is 30 seconds. \"T0\" is 0.\n",
    "# ** Use HMAC-SHA-512 for the hash function, instead of the default HMAC-SHA-1.\n",
    "# ** Token shared secret is the userid followed by ASCII string value \"HDECHALLENGE003\" (not including double quotations).\n",
    "# \n",
    "# *** For example, if the userid is \"ninja@example.com\", the token shared secret is \"ninja@example.comHDECHALLENGE003\".\n",
    "# *** For example, if the userid is \"ninjasamuraisumotorishogun@example.com\", the token shared secret is \"ninjasamuraisumotorishogun@example.comHDECHALLENGE003\"\n",
    "#\n",
    "# If your POST request succeeds, the server returns HTTP status code 200.\n",
    "#\n",
    "#######################################################################\n",
    "\n",
    "import requests\n",
    "import hmac\n",
    "import hashlib\n",
    "import time\n",
    "import sys\n",
    "import struct\n",
    "import json\n",
    "\n",
    "from requests.auth import HTTPBasicAuth\n",
    "\n",
    "root = \"https://dps-challenge.netlify.app/.netlify/functions/api/challenge\"\n",
    "content_type = \"application/json\"\n",
    "userid = \"anum.hassan.29@gmail.com\"\n",
    "secret_suffix = \"DPSCHALLENGE\"\n",
    "shared_secret = userid+secret_suffix\n",
    "\n",
    "timestep = 120\n",
    "T0 = 0\n",
    "\n",
    "def HOTP(K, C, digits=10):\n",
    "    \"\"\"HTOP:\n",
    "    K is the shared key\n",
    "    C is the counter value\n",
    "    digits control the response length\n",
    "    \"\"\"\n",
    "    K_bytes = str.encode(K)\n",
    "    C_bytes = struct.pack(\">Q\", C)\n",
    "    hmac_sha512 = hmac.new(key = K_bytes, msg=C_bytes, digestmod=hashlib.sha512).hexdigest()\n",
    "    return Truncate(hmac_sha512)[-digits:]\n",
    "\n",
    "def Truncate(hmac_sha512):\n",
    "    \"\"\"truncate sha512 value\"\"\"\n",
    "    offset = int(hmac_sha512[-1], 16)\n",
    "    binary = int(hmac_sha512[(offset *2):((offset*2)+8)], 16) & 0x7FFFFFFF\n",
    "    return str(binary)\n",
    "\n",
    "def TOTP(K, digits=10, timeref = 0, timestep = 120):\n",
    "    \"\"\"TOTP, time-based variant of HOTP\n",
    "    digits control the response length\n",
    "    the C in HOTP is replaced by ( (currentTime - timeref) / timestep )\n",
    "    \"\"\"\n",
    "    C = int ( time.time() - timeref ) // timestep\n",
    "    return HOTP(K, C, digits = digits)\n",
    "\n",
    "\n",
    "passwd = TOTP(shared_secret, 10, T0, timestep).zfill(10) "
   ]
  },
  {
   "cell_type": "code",
   "execution_count": null,
   "metadata": {},
   "outputs": [],
   "source": []
  },
  {
   "cell_type": "code",
   "execution_count": null,
   "metadata": {},
   "outputs": [],
   "source": [
    "data = {\n",
    "        \"github\":\"https://github.com/Anum29/DPS_AI_Challenge/\",\n",
    "        \"email\":\"anum.hassan.29@gmail.com\",\n",
    "        \"url\":\"sagemaker-scikit-learn-2022-06-20-03-59-08-850\", \n",
    "        \"notes\":\"I deployed the endpoint on aws using random forest as the best performing model for making predictions\" \n",
    "        }"
   ]
  },
  {
   "cell_type": "code",
   "execution_count": 47,
   "metadata": {},
   "outputs": [
    {
     "data": {
      "text/plain": [
       "'1715722264'"
      ]
     },
     "execution_count": 47,
     "metadata": {},
     "output_type": "execute_result"
    }
   ],
   "source": [
    "passwd"
   ]
  },
  {
   "cell_type": "code",
   "execution_count": 48,
   "metadata": {},
   "outputs": [],
   "source": [
    "auth = \"Basic \"+ passwd"
   ]
  },
  {
   "cell_type": "code",
   "execution_count": 51,
   "metadata": {},
   "outputs": [
    {
     "name": "stdout",
     "output_type": "stream",
     "text": [
      "Status Code: 200, Response: {'message': 'Congratulations! Achieved Mission 3'}\n"
     ]
    }
   ],
   "source": [
    "header = {\"Authorization\" : auth}\n",
    "\n",
    "r = requests.post(\"https://dps-challenge.netlify.app/.netlify/functions/api/challenge\", \n",
    "                  \n",
    "        headers=header, \n",
    "        json=data)\n",
    "print(f\"Status Code: {r.status_code}, Response: {r.json()}\")\n"
   ]
  }
 ],
 "metadata": {
  "kernelspec": {
   "display_name": "Python 3",
   "language": "python",
   "name": "python3"
  },
  "language_info": {
   "codemirror_mode": {
    "name": "ipython",
    "version": 3
   },
   "file_extension": ".py",
   "mimetype": "text/x-python",
   "name": "python",
   "nbconvert_exporter": "python",
   "pygments_lexer": "ipython3",
   "version": "3.8.5"
  }
 },
 "nbformat": 4,
 "nbformat_minor": 4
}
